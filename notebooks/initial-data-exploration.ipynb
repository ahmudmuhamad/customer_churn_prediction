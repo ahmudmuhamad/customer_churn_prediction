{
 "cells": [
  {
   "cell_type": "markdown",
   "metadata": {},
   "source": [
    "## Importing Libraries"
   ]
  },
  {
   "cell_type": "code",
   "execution_count": 61,
   "metadata": {},
   "outputs": [],
   "source": [
    "from pprint import pprint\n",
    "import os\n",
    "import pandas as pd\n",
    "import numpy as np\n",
    "import warnings\n",
    "import jsonschema_specifications\n",
    "\n",
    "warnings.filterwarnings(\"ignore\")\n",
    "\n"
   ]
  },
  {
   "cell_type": "markdown",
   "metadata": {},
   "source": [
    "### Loading the data"
   ]
  },
  {
   "cell_type": "code",
   "execution_count": 62,
   "metadata": {},
   "outputs": [
    {
     "data": {
      "text/html": [
       "<div>\n",
       "<style scoped>\n",
       "    .dataframe tbody tr th:only-of-type {\n",
       "        vertical-align: middle;\n",
       "    }\n",
       "\n",
       "    .dataframe tbody tr th {\n",
       "        vertical-align: top;\n",
       "    }\n",
       "\n",
       "    .dataframe thead th {\n",
       "        text-align: right;\n",
       "    }\n",
       "</style>\n",
       "<table border=\"1\" class=\"dataframe\">\n",
       "  <thead>\n",
       "    <tr style=\"text-align: right;\">\n",
       "      <th></th>\n",
       "      <th>ts</th>\n",
       "      <th>userId</th>\n",
       "      <th>sessionId</th>\n",
       "      <th>page</th>\n",
       "      <th>auth</th>\n",
       "      <th>method</th>\n",
       "      <th>status</th>\n",
       "      <th>level</th>\n",
       "      <th>itemInSession</th>\n",
       "      <th>location</th>\n",
       "      <th>userAgent</th>\n",
       "      <th>lastName</th>\n",
       "      <th>firstName</th>\n",
       "      <th>registration</th>\n",
       "      <th>gender</th>\n",
       "      <th>artist</th>\n",
       "      <th>song</th>\n",
       "      <th>length</th>\n",
       "    </tr>\n",
       "  </thead>\n",
       "  <tbody>\n",
       "    <tr>\n",
       "      <th>0</th>\n",
       "      <td>1538352117000</td>\n",
       "      <td>30</td>\n",
       "      <td>29</td>\n",
       "      <td>NextSong</td>\n",
       "      <td>Logged In</td>\n",
       "      <td>PUT</td>\n",
       "      <td>200</td>\n",
       "      <td>paid</td>\n",
       "      <td>50</td>\n",
       "      <td>Bakersfield, CA</td>\n",
       "      <td>Mozilla/5.0 (Windows NT 6.1; WOW64; rv:31.0) G...</td>\n",
       "      <td>Freeman</td>\n",
       "      <td>Colin</td>\n",
       "      <td>1.538173e+12</td>\n",
       "      <td>M</td>\n",
       "      <td>Martha Tilston</td>\n",
       "      <td>Rockpools</td>\n",
       "      <td>277.89016</td>\n",
       "    </tr>\n",
       "    <tr>\n",
       "      <th>1</th>\n",
       "      <td>1538352180000</td>\n",
       "      <td>9</td>\n",
       "      <td>8</td>\n",
       "      <td>NextSong</td>\n",
       "      <td>Logged In</td>\n",
       "      <td>PUT</td>\n",
       "      <td>200</td>\n",
       "      <td>free</td>\n",
       "      <td>79</td>\n",
       "      <td>Boston-Cambridge-Newton, MA-NH</td>\n",
       "      <td>\"Mozilla/5.0 (Windows NT 6.1; WOW64) AppleWebK...</td>\n",
       "      <td>Long</td>\n",
       "      <td>Micah</td>\n",
       "      <td>1.538332e+12</td>\n",
       "      <td>M</td>\n",
       "      <td>Five Iron Frenzy</td>\n",
       "      <td>Canada</td>\n",
       "      <td>236.09424</td>\n",
       "    </tr>\n",
       "    <tr>\n",
       "      <th>2</th>\n",
       "      <td>1538352394000</td>\n",
       "      <td>30</td>\n",
       "      <td>29</td>\n",
       "      <td>NextSong</td>\n",
       "      <td>Logged In</td>\n",
       "      <td>PUT</td>\n",
       "      <td>200</td>\n",
       "      <td>paid</td>\n",
       "      <td>51</td>\n",
       "      <td>Bakersfield, CA</td>\n",
       "      <td>Mozilla/5.0 (Windows NT 6.1; WOW64; rv:31.0) G...</td>\n",
       "      <td>Freeman</td>\n",
       "      <td>Colin</td>\n",
       "      <td>1.538173e+12</td>\n",
       "      <td>M</td>\n",
       "      <td>Adam Lambert</td>\n",
       "      <td>Time For Miracles</td>\n",
       "      <td>282.82730</td>\n",
       "    </tr>\n",
       "    <tr>\n",
       "      <th>3</th>\n",
       "      <td>1538352416000</td>\n",
       "      <td>9</td>\n",
       "      <td>8</td>\n",
       "      <td>NextSong</td>\n",
       "      <td>Logged In</td>\n",
       "      <td>PUT</td>\n",
       "      <td>200</td>\n",
       "      <td>free</td>\n",
       "      <td>80</td>\n",
       "      <td>Boston-Cambridge-Newton, MA-NH</td>\n",
       "      <td>\"Mozilla/5.0 (Windows NT 6.1; WOW64) AppleWebK...</td>\n",
       "      <td>Long</td>\n",
       "      <td>Micah</td>\n",
       "      <td>1.538332e+12</td>\n",
       "      <td>M</td>\n",
       "      <td>Enigma</td>\n",
       "      <td>Knocking On Forbidden Doors</td>\n",
       "      <td>262.71302</td>\n",
       "    </tr>\n",
       "    <tr>\n",
       "      <th>4</th>\n",
       "      <td>1538352676000</td>\n",
       "      <td>30</td>\n",
       "      <td>29</td>\n",
       "      <td>NextSong</td>\n",
       "      <td>Logged In</td>\n",
       "      <td>PUT</td>\n",
       "      <td>200</td>\n",
       "      <td>paid</td>\n",
       "      <td>52</td>\n",
       "      <td>Bakersfield, CA</td>\n",
       "      <td>Mozilla/5.0 (Windows NT 6.1; WOW64; rv:31.0) G...</td>\n",
       "      <td>Freeman</td>\n",
       "      <td>Colin</td>\n",
       "      <td>1.538173e+12</td>\n",
       "      <td>M</td>\n",
       "      <td>Daft Punk</td>\n",
       "      <td>Harder Better Faster Stronger</td>\n",
       "      <td>223.60771</td>\n",
       "    </tr>\n",
       "  </tbody>\n",
       "</table>\n",
       "</div>"
      ],
      "text/plain": [
       "              ts userId  sessionId      page       auth method  status level  \\\n",
       "0  1538352117000     30         29  NextSong  Logged In    PUT     200  paid   \n",
       "1  1538352180000      9          8  NextSong  Logged In    PUT     200  free   \n",
       "2  1538352394000     30         29  NextSong  Logged In    PUT     200  paid   \n",
       "3  1538352416000      9          8  NextSong  Logged In    PUT     200  free   \n",
       "4  1538352676000     30         29  NextSong  Logged In    PUT     200  paid   \n",
       "\n",
       "   itemInSession                        location  \\\n",
       "0             50                 Bakersfield, CA   \n",
       "1             79  Boston-Cambridge-Newton, MA-NH   \n",
       "2             51                 Bakersfield, CA   \n",
       "3             80  Boston-Cambridge-Newton, MA-NH   \n",
       "4             52                 Bakersfield, CA   \n",
       "\n",
       "                                           userAgent lastName firstName  \\\n",
       "0  Mozilla/5.0 (Windows NT 6.1; WOW64; rv:31.0) G...  Freeman     Colin   \n",
       "1  \"Mozilla/5.0 (Windows NT 6.1; WOW64) AppleWebK...     Long     Micah   \n",
       "2  Mozilla/5.0 (Windows NT 6.1; WOW64; rv:31.0) G...  Freeman     Colin   \n",
       "3  \"Mozilla/5.0 (Windows NT 6.1; WOW64) AppleWebK...     Long     Micah   \n",
       "4  Mozilla/5.0 (Windows NT 6.1; WOW64; rv:31.0) G...  Freeman     Colin   \n",
       "\n",
       "   registration gender            artist                           song  \\\n",
       "0  1.538173e+12      M    Martha Tilston                      Rockpools   \n",
       "1  1.538332e+12      M  Five Iron Frenzy                         Canada   \n",
       "2  1.538173e+12      M      Adam Lambert              Time For Miracles   \n",
       "3  1.538332e+12      M            Enigma    Knocking On Forbidden Doors   \n",
       "4  1.538173e+12      M         Daft Punk  Harder Better Faster Stronger   \n",
       "\n",
       "      length  \n",
       "0  277.89016  \n",
       "1  236.09424  \n",
       "2  282.82730  \n",
       "3  262.71302  \n",
       "4  223.60771  "
      ]
     },
     "execution_count": 62,
     "metadata": {},
     "output_type": "execute_result"
    }
   ],
   "source": [
    "df = pd.read_json(r\"E:\\customer_churn_prediction\\data\\raw\\customer_churn_mini.json\", lines=True)\n",
    "df.head()"
   ]
  },
  {
   "cell_type": "code",
   "execution_count": 63,
   "metadata": {},
   "outputs": [
    {
     "name": "stdout",
     "output_type": "stream",
     "text": [
      "<class 'pandas.core.frame.DataFrame'>\n",
      "RangeIndex: 286500 entries, 0 to 286499\n",
      "Data columns (total 18 columns):\n",
      " #   Column         Non-Null Count   Dtype  \n",
      "---  ------         --------------   -----  \n",
      " 0   ts             286500 non-null  int64  \n",
      " 1   userId         286500 non-null  object \n",
      " 2   sessionId      286500 non-null  int64  \n",
      " 3   page           286500 non-null  object \n",
      " 4   auth           286500 non-null  object \n",
      " 5   method         286500 non-null  object \n",
      " 6   status         286500 non-null  int64  \n",
      " 7   level          286500 non-null  object \n",
      " 8   itemInSession  286500 non-null  int64  \n",
      " 9   location       278154 non-null  object \n",
      " 10  userAgent      278154 non-null  object \n",
      " 11  lastName       278154 non-null  object \n",
      " 12  firstName      278154 non-null  object \n",
      " 13  registration   278154 non-null  float64\n",
      " 14  gender         278154 non-null  object \n",
      " 15  artist         228108 non-null  object \n",
      " 16  song           228108 non-null  object \n",
      " 17  length         228108 non-null  float64\n",
      "dtypes: float64(2), int64(4), object(12)\n",
      "memory usage: 39.3+ MB\n"
     ]
    }
   ],
   "source": [
    "df.info()"
   ]
  },
  {
   "cell_type": "code",
   "execution_count": 64,
   "metadata": {},
   "outputs": [
    {
     "data": {
      "text/html": [
       "<div>\n",
       "<style scoped>\n",
       "    .dataframe tbody tr th:only-of-type {\n",
       "        vertical-align: middle;\n",
       "    }\n",
       "\n",
       "    .dataframe tbody tr th {\n",
       "        vertical-align: top;\n",
       "    }\n",
       "\n",
       "    .dataframe thead th {\n",
       "        text-align: right;\n",
       "    }\n",
       "</style>\n",
       "<table border=\"1\" class=\"dataframe\">\n",
       "  <thead>\n",
       "    <tr style=\"text-align: right;\">\n",
       "      <th></th>\n",
       "      <th>ts</th>\n",
       "      <th>sessionId</th>\n",
       "      <th>status</th>\n",
       "      <th>itemInSession</th>\n",
       "      <th>registration</th>\n",
       "      <th>length</th>\n",
       "    </tr>\n",
       "  </thead>\n",
       "  <tbody>\n",
       "    <tr>\n",
       "      <th>count</th>\n",
       "      <td>2.865000e+05</td>\n",
       "      <td>286500.000000</td>\n",
       "      <td>286500.000000</td>\n",
       "      <td>286500.000000</td>\n",
       "      <td>2.781540e+05</td>\n",
       "      <td>228108.000000</td>\n",
       "    </tr>\n",
       "    <tr>\n",
       "      <th>mean</th>\n",
       "      <td>1.540957e+12</td>\n",
       "      <td>1041.526555</td>\n",
       "      <td>210.054597</td>\n",
       "      <td>114.414213</td>\n",
       "      <td>1.535359e+12</td>\n",
       "      <td>249.117182</td>\n",
       "    </tr>\n",
       "    <tr>\n",
       "      <th>std</th>\n",
       "      <td>1.507544e+09</td>\n",
       "      <td>726.776263</td>\n",
       "      <td>31.505078</td>\n",
       "      <td>129.767262</td>\n",
       "      <td>3.291322e+09</td>\n",
       "      <td>99.235179</td>\n",
       "    </tr>\n",
       "    <tr>\n",
       "      <th>min</th>\n",
       "      <td>1.538352e+12</td>\n",
       "      <td>1.000000</td>\n",
       "      <td>200.000000</td>\n",
       "      <td>0.000000</td>\n",
       "      <td>1.521381e+12</td>\n",
       "      <td>0.783220</td>\n",
       "    </tr>\n",
       "    <tr>\n",
       "      <th>25%</th>\n",
       "      <td>1.539697e+12</td>\n",
       "      <td>336.000000</td>\n",
       "      <td>200.000000</td>\n",
       "      <td>27.000000</td>\n",
       "      <td>1.533522e+12</td>\n",
       "      <td>199.888530</td>\n",
       "    </tr>\n",
       "    <tr>\n",
       "      <th>50%</th>\n",
       "      <td>1.540932e+12</td>\n",
       "      <td>1013.000000</td>\n",
       "      <td>200.000000</td>\n",
       "      <td>70.000000</td>\n",
       "      <td>1.536664e+12</td>\n",
       "      <td>234.500770</td>\n",
       "    </tr>\n",
       "    <tr>\n",
       "      <th>75%</th>\n",
       "      <td>1.542266e+12</td>\n",
       "      <td>1675.000000</td>\n",
       "      <td>200.000000</td>\n",
       "      <td>156.250000</td>\n",
       "      <td>1.537672e+12</td>\n",
       "      <td>277.158730</td>\n",
       "    </tr>\n",
       "    <tr>\n",
       "      <th>max</th>\n",
       "      <td>1.543799e+12</td>\n",
       "      <td>2474.000000</td>\n",
       "      <td>404.000000</td>\n",
       "      <td>1321.000000</td>\n",
       "      <td>1.543247e+12</td>\n",
       "      <td>3024.665670</td>\n",
       "    </tr>\n",
       "  </tbody>\n",
       "</table>\n",
       "</div>"
      ],
      "text/plain": [
       "                 ts      sessionId         status  itemInSession  \\\n",
       "count  2.865000e+05  286500.000000  286500.000000  286500.000000   \n",
       "mean   1.540957e+12    1041.526555     210.054597     114.414213   \n",
       "std    1.507544e+09     726.776263      31.505078     129.767262   \n",
       "min    1.538352e+12       1.000000     200.000000       0.000000   \n",
       "25%    1.539697e+12     336.000000     200.000000      27.000000   \n",
       "50%    1.540932e+12    1013.000000     200.000000      70.000000   \n",
       "75%    1.542266e+12    1675.000000     200.000000     156.250000   \n",
       "max    1.543799e+12    2474.000000     404.000000    1321.000000   \n",
       "\n",
       "       registration         length  \n",
       "count  2.781540e+05  228108.000000  \n",
       "mean   1.535359e+12     249.117182  \n",
       "std    3.291322e+09      99.235179  \n",
       "min    1.521381e+12       0.783220  \n",
       "25%    1.533522e+12     199.888530  \n",
       "50%    1.536664e+12     234.500770  \n",
       "75%    1.537672e+12     277.158730  \n",
       "max    1.543247e+12    3024.665670  "
      ]
     },
     "execution_count": 64,
     "metadata": {},
     "output_type": "execute_result"
    }
   ],
   "source": [
    "df.describe()"
   ]
  },
  {
   "cell_type": "code",
   "execution_count": 65,
   "metadata": {},
   "outputs": [
    {
     "data": {
      "text/html": [
       "<div>\n",
       "<style scoped>\n",
       "    .dataframe tbody tr th:only-of-type {\n",
       "        vertical-align: middle;\n",
       "    }\n",
       "\n",
       "    .dataframe tbody tr th {\n",
       "        vertical-align: top;\n",
       "    }\n",
       "\n",
       "    .dataframe thead th {\n",
       "        text-align: right;\n",
       "    }\n",
       "</style>\n",
       "<table border=\"1\" class=\"dataframe\">\n",
       "  <thead>\n",
       "    <tr style=\"text-align: right;\">\n",
       "      <th></th>\n",
       "      <th>userId</th>\n",
       "      <th>page</th>\n",
       "      <th>auth</th>\n",
       "      <th>method</th>\n",
       "      <th>level</th>\n",
       "      <th>location</th>\n",
       "      <th>userAgent</th>\n",
       "      <th>lastName</th>\n",
       "      <th>firstName</th>\n",
       "      <th>gender</th>\n",
       "      <th>artist</th>\n",
       "      <th>song</th>\n",
       "    </tr>\n",
       "  </thead>\n",
       "  <tbody>\n",
       "    <tr>\n",
       "      <th>count</th>\n",
       "      <td>286500</td>\n",
       "      <td>286500</td>\n",
       "      <td>286500</td>\n",
       "      <td>286500</td>\n",
       "      <td>286500</td>\n",
       "      <td>278154</td>\n",
       "      <td>278154</td>\n",
       "      <td>278154</td>\n",
       "      <td>278154</td>\n",
       "      <td>278154</td>\n",
       "      <td>228108</td>\n",
       "      <td>228108</td>\n",
       "    </tr>\n",
       "    <tr>\n",
       "      <th>unique</th>\n",
       "      <td>226</td>\n",
       "      <td>22</td>\n",
       "      <td>4</td>\n",
       "      <td>2</td>\n",
       "      <td>2</td>\n",
       "      <td>114</td>\n",
       "      <td>56</td>\n",
       "      <td>173</td>\n",
       "      <td>189</td>\n",
       "      <td>2</td>\n",
       "      <td>17655</td>\n",
       "      <td>58480</td>\n",
       "    </tr>\n",
       "    <tr>\n",
       "      <th>top</th>\n",
       "      <td>39</td>\n",
       "      <td>NextSong</td>\n",
       "      <td>Logged In</td>\n",
       "      <td>PUT</td>\n",
       "      <td>paid</td>\n",
       "      <td>Los Angeles-Long Beach-Anaheim, CA</td>\n",
       "      <td>\"Mozilla/5.0 (Windows NT 6.1; WOW64) AppleWebK...</td>\n",
       "      <td>Campbell</td>\n",
       "      <td>Payton</td>\n",
       "      <td>F</td>\n",
       "      <td>Kings Of Leon</td>\n",
       "      <td>You're The One</td>\n",
       "    </tr>\n",
       "    <tr>\n",
       "      <th>freq</th>\n",
       "      <td>9632</td>\n",
       "      <td>228108</td>\n",
       "      <td>278102</td>\n",
       "      <td>261064</td>\n",
       "      <td>228162</td>\n",
       "      <td>30131</td>\n",
       "      <td>22751</td>\n",
       "      <td>14060</td>\n",
       "      <td>9632</td>\n",
       "      <td>154578</td>\n",
       "      <td>1841</td>\n",
       "      <td>1153</td>\n",
       "    </tr>\n",
       "  </tbody>\n",
       "</table>\n",
       "</div>"
      ],
      "text/plain": [
       "        userId      page       auth  method   level  \\\n",
       "count   286500    286500     286500  286500  286500   \n",
       "unique     226        22          4       2       2   \n",
       "top         39  NextSong  Logged In     PUT    paid   \n",
       "freq      9632    228108     278102  261064  228162   \n",
       "\n",
       "                                  location  \\\n",
       "count                               278154   \n",
       "unique                                 114   \n",
       "top     Los Angeles-Long Beach-Anaheim, CA   \n",
       "freq                                 30131   \n",
       "\n",
       "                                                userAgent  lastName firstName  \\\n",
       "count                                              278154    278154    278154   \n",
       "unique                                                 56       173       189   \n",
       "top     \"Mozilla/5.0 (Windows NT 6.1; WOW64) AppleWebK...  Campbell    Payton   \n",
       "freq                                                22751     14060      9632   \n",
       "\n",
       "        gender         artist            song  \n",
       "count   278154         228108          228108  \n",
       "unique       2          17655           58480  \n",
       "top          F  Kings Of Leon  You're The One  \n",
       "freq    154578           1841            1153  "
      ]
     },
     "execution_count": 65,
     "metadata": {},
     "output_type": "execute_result"
    }
   ],
   "source": [
    "df.describe(include=\"O\")"
   ]
  },
  {
   "cell_type": "code",
   "execution_count": 66,
   "metadata": {},
   "outputs": [
    {
     "data": {
      "text/plain": [
       "ts                0.000000\n",
       "userId            0.000000\n",
       "sessionId         0.000000\n",
       "page              0.000000\n",
       "auth              0.000000\n",
       "method            0.000000\n",
       "status            0.000000\n",
       "level             0.000000\n",
       "itemInSession     0.000000\n",
       "location          2.913089\n",
       "userAgent         2.913089\n",
       "lastName          2.913089\n",
       "firstName         2.913089\n",
       "registration      2.913089\n",
       "gender            2.913089\n",
       "artist           20.381152\n",
       "song             20.381152\n",
       "length           20.381152\n",
       "dtype: float64"
      ]
     },
     "execution_count": 66,
     "metadata": {},
     "output_type": "execute_result"
    }
   ],
   "source": [
    "df.isnull().mean() * 100"
   ]
  },
  {
   "cell_type": "code",
   "execution_count": 67,
   "metadata": {},
   "outputs": [
    {
     "name": "stdout",
     "output_type": "stream",
     "text": [
      "8346\n"
     ]
    }
   ],
   "source": [
    "print(df[df['firstName'].isnull()].shape[0])"
   ]
  },
  {
   "cell_type": "code",
   "execution_count": 68,
   "metadata": {},
   "outputs": [
    {
     "data": {
      "text/html": [
       "<div>\n",
       "<style scoped>\n",
       "    .dataframe tbody tr th:only-of-type {\n",
       "        vertical-align: middle;\n",
       "    }\n",
       "\n",
       "    .dataframe tbody tr th {\n",
       "        vertical-align: top;\n",
       "    }\n",
       "\n",
       "    .dataframe thead th {\n",
       "        text-align: right;\n",
       "    }\n",
       "</style>\n",
       "<table border=\"1\" class=\"dataframe\">\n",
       "  <thead>\n",
       "    <tr style=\"text-align: right;\">\n",
       "      <th></th>\n",
       "      <th>ts</th>\n",
       "      <th>userId</th>\n",
       "      <th>sessionId</th>\n",
       "      <th>page</th>\n",
       "      <th>auth</th>\n",
       "      <th>method</th>\n",
       "      <th>status</th>\n",
       "      <th>level</th>\n",
       "      <th>itemInSession</th>\n",
       "      <th>location</th>\n",
       "      <th>userAgent</th>\n",
       "      <th>lastName</th>\n",
       "      <th>firstName</th>\n",
       "      <th>registration</th>\n",
       "      <th>gender</th>\n",
       "      <th>artist</th>\n",
       "      <th>song</th>\n",
       "      <th>length</th>\n",
       "    </tr>\n",
       "  </thead>\n",
       "  <tbody>\n",
       "    <tr>\n",
       "      <th>57</th>\n",
       "      <td>1538355745000</td>\n",
       "      <td></td>\n",
       "      <td>8</td>\n",
       "      <td>Home</td>\n",
       "      <td>Logged Out</td>\n",
       "      <td>GET</td>\n",
       "      <td>200</td>\n",
       "      <td>free</td>\n",
       "      <td>100</td>\n",
       "      <td>NaN</td>\n",
       "      <td>NaN</td>\n",
       "      <td>NaN</td>\n",
       "      <td>NaN</td>\n",
       "      <td>NaN</td>\n",
       "      <td>NaN</td>\n",
       "      <td>NaN</td>\n",
       "      <td>NaN</td>\n",
       "      <td>NaN</td>\n",
       "    </tr>\n",
       "    <tr>\n",
       "      <th>58</th>\n",
       "      <td>1538355807000</td>\n",
       "      <td></td>\n",
       "      <td>8</td>\n",
       "      <td>Help</td>\n",
       "      <td>Logged Out</td>\n",
       "      <td>GET</td>\n",
       "      <td>200</td>\n",
       "      <td>free</td>\n",
       "      <td>101</td>\n",
       "      <td>NaN</td>\n",
       "      <td>NaN</td>\n",
       "      <td>NaN</td>\n",
       "      <td>NaN</td>\n",
       "      <td>NaN</td>\n",
       "      <td>NaN</td>\n",
       "      <td>NaN</td>\n",
       "      <td>NaN</td>\n",
       "      <td>NaN</td>\n",
       "    </tr>\n",
       "    <tr>\n",
       "      <th>59</th>\n",
       "      <td>1538355841000</td>\n",
       "      <td></td>\n",
       "      <td>8</td>\n",
       "      <td>Home</td>\n",
       "      <td>Logged Out</td>\n",
       "      <td>GET</td>\n",
       "      <td>200</td>\n",
       "      <td>free</td>\n",
       "      <td>102</td>\n",
       "      <td>NaN</td>\n",
       "      <td>NaN</td>\n",
       "      <td>NaN</td>\n",
       "      <td>NaN</td>\n",
       "      <td>NaN</td>\n",
       "      <td>NaN</td>\n",
       "      <td>NaN</td>\n",
       "      <td>NaN</td>\n",
       "      <td>NaN</td>\n",
       "    </tr>\n",
       "    <tr>\n",
       "      <th>60</th>\n",
       "      <td>1538355842000</td>\n",
       "      <td></td>\n",
       "      <td>8</td>\n",
       "      <td>Login</td>\n",
       "      <td>Logged Out</td>\n",
       "      <td>PUT</td>\n",
       "      <td>307</td>\n",
       "      <td>free</td>\n",
       "      <td>103</td>\n",
       "      <td>NaN</td>\n",
       "      <td>NaN</td>\n",
       "      <td>NaN</td>\n",
       "      <td>NaN</td>\n",
       "      <td>NaN</td>\n",
       "      <td>NaN</td>\n",
       "      <td>NaN</td>\n",
       "      <td>NaN</td>\n",
       "      <td>NaN</td>\n",
       "    </tr>\n",
       "    <tr>\n",
       "      <th>76</th>\n",
       "      <td>1538356678000</td>\n",
       "      <td></td>\n",
       "      <td>240</td>\n",
       "      <td>Home</td>\n",
       "      <td>Logged Out</td>\n",
       "      <td>GET</td>\n",
       "      <td>200</td>\n",
       "      <td>free</td>\n",
       "      <td>2</td>\n",
       "      <td>NaN</td>\n",
       "      <td>NaN</td>\n",
       "      <td>NaN</td>\n",
       "      <td>NaN</td>\n",
       "      <td>NaN</td>\n",
       "      <td>NaN</td>\n",
       "      <td>NaN</td>\n",
       "      <td>NaN</td>\n",
       "      <td>NaN</td>\n",
       "    </tr>\n",
       "  </tbody>\n",
       "</table>\n",
       "</div>"
      ],
      "text/plain": [
       "               ts userId  sessionId   page        auth method  status level  \\\n",
       "57  1538355745000                 8   Home  Logged Out    GET     200  free   \n",
       "58  1538355807000                 8   Help  Logged Out    GET     200  free   \n",
       "59  1538355841000                 8   Home  Logged Out    GET     200  free   \n",
       "60  1538355842000                 8  Login  Logged Out    PUT     307  free   \n",
       "76  1538356678000               240   Home  Logged Out    GET     200  free   \n",
       "\n",
       "    itemInSession location userAgent lastName firstName  registration gender  \\\n",
       "57            100      NaN       NaN      NaN       NaN           NaN    NaN   \n",
       "58            101      NaN       NaN      NaN       NaN           NaN    NaN   \n",
       "59            102      NaN       NaN      NaN       NaN           NaN    NaN   \n",
       "60            103      NaN       NaN      NaN       NaN           NaN    NaN   \n",
       "76              2      NaN       NaN      NaN       NaN           NaN    NaN   \n",
       "\n",
       "   artist song  length  \n",
       "57    NaN  NaN     NaN  \n",
       "58    NaN  NaN     NaN  \n",
       "59    NaN  NaN     NaN  \n",
       "60    NaN  NaN     NaN  \n",
       "76    NaN  NaN     NaN  "
      ]
     },
     "execution_count": 68,
     "metadata": {},
     "output_type": "execute_result"
    }
   ],
   "source": [
    "df[df['firstName'].isnull()].head()"
   ]
  },
  {
   "cell_type": "markdown",
   "metadata": {},
   "source": [
    "##### There are a lot of events that are not related to any user."
   ]
  },
  {
   "cell_type": "code",
   "execution_count": 69,
   "metadata": {},
   "outputs": [
    {
     "data": {
      "text/plain": [
       "(278154, 18)"
      ]
     },
     "execution_count": 69,
     "metadata": {},
     "output_type": "execute_result"
    }
   ],
   "source": [
    "events = df[(df['userId'] != '')]\n",
    "events.shape"
   ]
  },
  {
   "cell_type": "code",
   "execution_count": 70,
   "metadata": {},
   "outputs": [
    {
     "name": "stdout",
     "output_type": "stream",
     "text": [
      "Total rows of events with filtering: 278154 | Total amount of events without filtering: 286500\n"
     ]
    }
   ],
   "source": [
    "# Count comparison\n",
    "original_count = len(df)\n",
    "filtered_count = len(events)\n",
    "\n",
    "print(f\"Total rows of events with filtering: {filtered_count} | Total amount of events without filtering: {original_count}\")"
   ]
  },
  {
   "cell_type": "code",
   "execution_count": 71,
   "metadata": {},
   "outputs": [
    {
     "data": {
      "text/plain": [
       "(543705, 18)"
      ]
     },
     "execution_count": 71,
     "metadata": {},
     "output_type": "execute_result"
    }
   ],
   "source": [
    "#full dataset\n",
    "whole_df = pd.read_json(r\"E:\\customer_churn_prediction\\data\\raw\\customer_churn.json\", lines=True)\n",
    "whole_df.shape"
   ]
  },
  {
   "cell_type": "code",
   "execution_count": 72,
   "metadata": {},
   "outputs": [
    {
     "data": {
      "text/plain": [
       "(528005, 18)"
      ]
     },
     "execution_count": 72,
     "metadata": {},
     "output_type": "execute_result"
    }
   ],
   "source": [
    "full_events = whole_df[whole_df['userId'] != '']\n",
    "full_events.shape"
   ]
  },
  {
   "cell_type": "markdown",
   "metadata": {},
   "source": [
    "#### Making sure that there is no intersections between train and test data to avoid data leakage "
   ]
  },
  {
   "cell_type": "code",
   "execution_count": 73,
   "metadata": {},
   "outputs": [
    {
     "name": "stdout",
     "output_type": "stream",
     "text": [
      "Total users on small dataset 225\n",
      "Total users on full dataset 448\n"
     ]
    }
   ],
   "source": [
    "print(\"Total users on small dataset\", events['userId'].nunique())\n",
    "print(\"Total users on full dataset\", full_events['userId'].nunique())"
   ]
  },
  {
   "cell_type": "code",
   "execution_count": 74,
   "metadata": {},
   "outputs": [
    {
     "name": "stdout",
     "output_type": "stream",
     "text": [
      "Number of overlapping users: 224\n"
     ]
    }
   ],
   "source": [
    "# Get unique user IDs from both datasets\n",
    "train_users = set(events['userId'].dropna().unique())\n",
    "test_users = set(full_events['userId'].dropna().unique())\n",
    "\n",
    "# Find overlapping users\n",
    "overlapping_users = train_users.intersection(test_users)\n",
    "\n",
    "print(f\"Number of overlapping users: {len(overlapping_users)}\")"
   ]
  },
  {
   "cell_type": "code",
   "execution_count": 82,
   "metadata": {},
   "outputs": [],
   "source": [
    "# Get a sample overlapping user ID\n",
    "sample_user = list(overlapping_users)[2]\n",
    "\n",
    "# Get one row from each dataset for this user\n",
    "sample_train_row = events[events['userId'] == sample_user].iloc[0]\n",
    "sample_test_row = full_events[full_events['userId'] == sample_user].iloc[0]"
   ]
  },
  {
   "cell_type": "code",
   "execution_count": 83,
   "metadata": {},
   "outputs": [
    {
     "name": "stdout",
     "output_type": "stream",
     "text": [
      "Sample overlapping user ID: 100003\n",
      "\n",
      "Sample row from training set (events):\n",
      "ts                                                   1539100420000\n",
      "userId                                                      100003\n",
      "sessionId                                                        3\n",
      "page                                                      NextSong\n",
      "auth                                                     Logged In\n",
      "method                                                         PUT\n",
      "status                                                         200\n",
      "level                                                         free\n",
      "itemInSession                                                    0\n",
      "location                 Miami-Fort Lauderdale-West Palm Beach, FL\n",
      "userAgent        Mozilla/5.0 (Windows NT 6.1; WOW64; rv:31.0) G...\n",
      "lastName                                                     Jones\n",
      "firstName                                                   Nevaeh\n",
      "registration                                       1537309344000.0\n",
      "gender                                                           F\n",
      "artist                                             Black Eyed Peas\n",
      "song                                                    Gone Going\n",
      "length                                                   193.88036\n",
      "Name: 216619, dtype: object\n"
     ]
    }
   ],
   "source": [
    "print(f\"Sample overlapping user ID: {sample_user}\")\n",
    "print(\"\\nSample row from training set (events):\")\n",
    "print(sample_train_row)"
   ]
  },
  {
   "cell_type": "code",
   "execution_count": 84,
   "metadata": {},
   "outputs": [
    {
     "name": "stdout",
     "output_type": "stream",
     "text": [
      "\n",
      "Sample row from test set (full_events):\n",
      "ts                                                   1539100420000\n",
      "userId                                                      100003\n",
      "sessionId                                                        3\n",
      "page                                                      NextSong\n",
      "auth                                                     Logged In\n",
      "method                                                         PUT\n",
      "status                                                         200\n",
      "level                                                         free\n",
      "itemInSession                                                    0\n",
      "location                 Miami-Fort Lauderdale-West Palm Beach, FL\n",
      "userAgent        Mozilla/5.0 (Windows NT 6.1; WOW64; rv:31.0) G...\n",
      "lastName                                                     Jones\n",
      "firstName                                                   Nevaeh\n",
      "registration                                       1537309344000.0\n",
      "gender                                                           F\n",
      "artist                                             Black Eyed Peas\n",
      "song                                                    Gone Going\n",
      "length                                                   193.88036\n",
      "Name: 411419, dtype: object\n"
     ]
    }
   ],
   "source": [
    "print(\"\\nSample row from test set (full_events):\")\n",
    "print(sample_test_row)"
   ]
  },
  {
   "cell_type": "code",
   "execution_count": 78,
   "metadata": {},
   "outputs": [
    {
     "name": "stdout",
     "output_type": "stream",
     "text": [
      "Original test data size: 528005\n",
      "Cleaned test data size: 248377\n",
      "Rows removed: 279628\n",
      "Number of overlapping users remaining: 0\n"
     ]
    }
   ],
   "source": [
    "# Get the list of overlapping user IDs (assuming you already have this)\n",
    "overlapping_users = list(overlapping_users)  # Convert set to list if needed\n",
    "\n",
    "# Remove all rows from test data that have these user IDs\n",
    "full_events_clean = full_events[~full_events['userId'].isin(overlapping_users)]\n",
    "\n",
    "# Verify the removal\n",
    "print(f\"Original test data size: {len(full_events)}\")\n",
    "print(f\"Cleaned test data size: {len(full_events_clean)}\")\n",
    "print(f\"Rows removed: {len(full_events) - len(full_events_clean)}\")\n",
    "\n",
    "# Check if any overlapping users remain in the cleaned test data\n",
    "remaining_overlap = set(full_events_clean['userId']).intersection(set(overlapping_users))\n",
    "print(f\"Number of overlapping users remaining: {len(remaining_overlap)}\")"
   ]
  },
  {
   "cell_type": "code",
   "execution_count": null,
   "metadata": {},
   "outputs": [
    {
     "name": "stdout",
     "output_type": "stream",
     "text": [
      "Cleaned test data saved to: E:\\customer_churn_prediction\\data\\interim\\cleaned_test_data.json\n",
      "File size: 248377 records\n"
     ]
    }
   ],
   "source": [
    "# Define the directory path\n",
    "directory = r\"E:\\customer_churn_prediction\\data\\interim\"\n",
    "# Define the full file path\n",
    "file_path = os.path.join(directory, \"cleaned_test_data.json\")\n",
    "# Save the cleaned test data to JSON format\n",
    "full_events_clean.to_json(file_path, orient='records', lines=True)"
   ]
  },
  {
   "cell_type": "code",
   "execution_count": 87,
   "metadata": {},
   "outputs": [
    {
     "name": "stdout",
     "output_type": "stream",
     "text": [
      "Cleaned test data saved to: E:\\customer_churn_prediction\\data\\interim\\cleaned_test_data.json\n",
      "Total Records: 248377\n"
     ]
    }
   ],
   "source": [
    "print(f\"Cleaned test data saved to: {file_path}\")\n",
    "print(f\"Total Records: {len(full_events_clean)}\")"
   ]
  },
  {
   "cell_type": "code",
   "execution_count": 92,
   "metadata": {},
   "outputs": [],
   "source": [
    "file_path = os.path.join(directory, \"events.json\")\n",
    "events.to_json(file_path, orient='records', lines = True)"
   ]
  },
  {
   "cell_type": "code",
   "execution_count": null,
   "metadata": {},
   "outputs": [],
   "source": []
  }
 ],
 "metadata": {
  "kernelspec": {
   "display_name": "mlops",
   "language": "python",
   "name": "python3"
  },
  "language_info": {
   "codemirror_mode": {
    "name": "ipython",
    "version": 3
   },
   "file_extension": ".py",
   "mimetype": "text/x-python",
   "name": "python",
   "nbconvert_exporter": "python",
   "pygments_lexer": "ipython3",
   "version": "3.12.11"
  }
 },
 "nbformat": 4,
 "nbformat_minor": 2
}
